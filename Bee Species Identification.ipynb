{
 "cells": [
  {
   "cell_type": "markdown",
   "metadata": {},
   "source": [
    "# 1. Import Python libraries"
   ]
  },
  {
   "cell_type": "code",
   "execution_count": 1,
   "metadata": {
    "collapsed": true
   },
   "outputs": [],
   "source": [
    "import pickle \n",
    "from pathlib import Path\n",
    "from skimage import io\n",
    "\n",
    "import pandas as pd\n",
    "import numpy as np\n",
    "\n",
    "import matplotlib.pyplot as plt\n",
    "%matplotlib inline\n",
    "\n",
    "from sklearn.preprocessing import StandardScaler\n",
    "from sklearn.model_selection import train_test_split\n",
    "from sklearn.metrics import classification_report\n",
    "\n",
    "# import keras library\n",
    "import keras\n",
    "\n",
    "# import Sequential from the keras models module\n",
    "from keras.models import Sequential\n",
    "\n",
    "# import Dense, Dropout, Flatten, Conv2D, MaxPooling2D from the keras layers module\n",
    "from keras.layers import Dense, Dropout, Flatten, Conv2D, MaxPooling2D"
   ]
  },
  {
   "cell_type": "markdown",
   "metadata": {},
   "source": [
    "# 2. Load image labels\n",
    "Now that we have imported all the necessary libraries, let's take a look at the labels for our data. We will load the labels.csv file into a DataFrame called \"labels\". The index of this DataFrame will correspond to the image ID (e.g. an index of 1036 refers to an image named 1036.jpg), and the \"genus\" column will tell us the bee type. The \"genus\" column will take a value of either 0.0 (for Apis or honey bee) or 1.0 (for Bombus or bumble bee)."
   ]
  },
  {
   "cell_type": "code",
   "execution_count": 2,
   "metadata": {},
   "outputs": [
    {
     "name": "stdout",
     "output_type": "stream",
     "text": [
      "0.0    827\n",
      "1.0    827\n",
      "Name: genus, dtype: int64\n"
     ]
    }
   ],
   "source": [
    "# load labels.csv from datasets folder using pandas\n",
    "labels = pd.read_csv('datasets/labels.csv', index_col=0)\n",
    "\n",
    "# print value counts for genus\n",
    "print(labels.genus.value_counts())\n",
    "\n",
    "# assign the genus label values to y\n",
    "y = labels.genus.values"
   ]
  },
  {
   "cell_type": "code",
   "execution_count": 3,
   "metadata": {},
   "outputs": [
    {
     "name": "stdout",
     "output_type": "stream",
     "text": [
      "Image has shape: (50, 50, 3)\n",
      "RGB values for the top left pixel are: [107 111  97]\n"
     ]
    },
    {
     "data": {
      "image/png": "[encoded data removed]",
      "text/plain": [
       "<Figure size 432x288 with 1 Axes>"
      ]
     },
     "metadata": {
      "needs_background": "light"
     },
     "output_type": "display_data"
    }
   ],
   "source": [
    "# load an image and explore\n",
    "example_image = io.imread('datasets/{}.jpg'.format(labels.index[84])) \n",
    "\n",
    "# show image\n",
    "plt.imshow(example_image)\n",
    "# print shape\n",
    "print('Image has shape:', example_image.shape)\n",
    "\n",
    "# print color channel values for top left pixel\n",
    "print('RGB values for the top left pixel are:', example_image[0, 0, :])"
   ]
  },
  {
   "cell_type": "markdown",
   "metadata": {
    "collapsed": true
   },
   "source": [
    "## 4. Importing the image data\n",
    "\n",
    "Now we will import all images. Once imported, we will stack the resulting arrays into a single matrix and assign it to X."
   ]
  },
  {
   "cell_type": "code",
   "execution_count": 4,
   "metadata": {},
   "outputs": [
    {
     "name": "stdout",
     "output_type": "stream",
     "text": [
      "(1654, 50, 50, 3)\n"
     ]
    }
   ],
   "source": [
    "# create empty list\n",
    "image_list = []\n",
    "\n",
    "for i in labels.index:\n",
    "    # load image\n",
    "    img = io.imread('datasets/{}.jpg'.format(i)).astype(np.float64)\n",
    "        \n",
    "    # append to list of all images\n",
    "    image_list.append(img)\n",
    "    \n",
    "# convert image list to single array\n",
    "X = np.array(image_list)\n",
    "\n",
    "print(X.shape)"
   ]
  },
  {
   "cell_type": "markdown",
   "metadata": {
    "collapsed": true
   },
   "source": [
    "## 5. Split data into train, test, and evaluation sets\n",
    "After obtaining the image data matrix, X, and its corresponding labels, y, it is necessary to split the data into train, test, and evaluation sets. Firstly, 20% of the data will be allocated to the evaluation set, which will be used to score the model after it is trained. This set is never seen by the model during the training phase.\n",
    "\n",
    "The remaining data will be split into train and test sets with a 60/40 ratio, similar to what is done in supervised machine learning models. Both the train and test sets will be used in the neural network."
   ]
  },
  {
   "cell_type": "code",
   "execution_count": 5,
   "metadata": {},
   "outputs": [
    {
     "name": "stdout",
     "output_type": "stream",
     "text": [
      "x_train shape: (793, 50, 50, 3)\n",
      "793 train samples\n",
      "530 test samples\n",
      "331 eval samples\n"
     ]
    }
   ],
   "source": [
    "# split out evaluation sets (x_eval and y_eval)\n",
    "x_interim, x_eval, y_interim, y_eval = train_test_split(X, \n",
    "                                                        y, \n",
    "                                                        test_size=0.2, \n",
    "                                                        random_state=52)\n",
    "\n",
    "# split remaining data into train and test sets\n",
    "x_train, x_test, y_train, y_test = train_test_split(x_interim, \n",
    "                                                    y_interim, \n",
    "                                                    test_size=0.4, \n",
    "                                                    random_state=52)\n",
    "\n",
    "# examine number of samples in train, test, and validation sets\n",
    "print('x_train shape:', x_train.shape)\n",
    "print(x_train.shape[0], 'train samples')\n",
    "print(x_test.shape[0], 'test samples')\n",
    "print(x_eval.shape[0], 'eval samples')\n"
   ]
  },
  {
   "cell_type": "markdown",
   "metadata": {},
   "source": [
    "## 6. Normalize image data\n",
    "Normalization is the process of scaling data to ensure that all the features are on a similar scale. In this case, we want to normalize our image data to ensure that each feature has a consistent range, so that our neural network can learn effectively across all features. If some features have a much larger variance than others, they may dominate the objective function and prevent the network from learning from other features correctly.\n",
    "\n",
    "To normalize our data, we will scale it so that it has a mean of 0 and a standard deviation of 1. We will use the StandardScaler class from the scikit-learn library to perform this operation. This will involve subtracting the mean from each value and dividing by the standard deviation. We will need to do this operation for each color channel, or feature, independently."
   ]
  },
  {
   "cell_type": "code",
   "execution_count": 6,
   "metadata": {},
   "outputs": [],
   "source": [
    "# initialize standard scaler\n",
    "ss = StandardScaler()\n",
    "\n",
    "def scale_features(train_features, test_features):\n",
    "    for image in train_features:\n",
    "        # for each channel, apply standard scaler's fit_transform method\n",
    "        for channel in range(image.shape[2]):\n",
    "            image[:, :, channel] = ss.fit_transform(image[:, :, channel])\n",
    "    for image in test_features:\n",
    "        # for each channel, apply standard scaler's transform method\n",
    "        for channel in range(image.shape[2]):\n",
    "            image[:, :, channel] = ss.transform(image[:, :, channel])\n",
    "\n",
    "# apply scale_features to four sets of features\n",
    "scale_features(x_interim, x_eval)\n",
    "scale_features(x_train, x_test)"
   ]
  },
  {
   "cell_type": "markdown",
   "metadata": {
    "collapsed": true
   },
   "source": [
    "## 7. Model building \n",
    "Normalization is the process of scaling data to ensure that all the features are on a similar scale. In this case, we want to normalize our image data to ensure that each feature has a consistent range, so that our neural network can learn effectively across all features. If some features have a much larger variance than others, they may dominate the objective function and prevent the network from learning from other features correctly.\n",
    "\n",
    "To normalize our data, we will scale it so that it has a mean of 0 and a standard deviation of 1. We will use the StandardScaler class from the scikit-learn library to perform this operation. This will involve subtracting the mean from each value and dividing by the standard deviation. We will need to do this operation for each color channel, or feature, independently.\n",
    "\n",
    "After the initial two convolutional layers, we need to add other layers that will contribute to the overall functionality of the network. The neural network architecture will include the following layers:\n",
    "\n",
    "•\tMaxPooling: This layer downscales the image by outputting the maximum value within a (2,2) moving window.\n",
    "\n",
    "•\tConv2D: We add a third convolutional layer, which will enable the model to learn better features from images.\n",
    "\n",
    "•\tDropout: This layer randomly sets 25% of the input units to zero during each training update to prevent overfitting.\n",
    "\n",
    "•\tFlatten: This layer flattens the output from the convolutional part of the CNN into a one-dimensional feature vector, which is passed into the following fully connected layers.\n",
    "\n",
    "•\tDense: This is a fully connected layer, where every input is connected to every output.\n",
    "\n",
    "•\tDropout: This is another dropout layer, but with a rate of 50%.\n",
    "\n",
    "•\tDense: This final layer calculates the probability that the image is either a bumble bee or honey bee.\n",
    "\n",
    "We'll print the model summary to take a closer look at the layers and their configurations.\n"
   ]
  },
  {
   "cell_type": "code",
   "execution_count": 7,
   "metadata": {
    "scrolled": false
   },
   "outputs": [
    {
     "name": "stdout",
     "output_type": "stream",
     "text": [
      "Model: \"sequential\"\n",
      "_________________________________________________________________\n",
      "Layer (type)                 Output Shape              Param #   \n",
      "=================================================================\n",
      "conv2d (Conv2D)              (None, 48, 48, 32)        896       \n",
      "_________________________________________________________________\n",
      "conv2d_1 (Conv2D)            (None, 46, 46, 64)        18496     \n",
      "_________________________________________________________________\n",
      "max_pooling2d (MaxPooling2D) (None, 23, 23, 64)        0         \n",
      "_________________________________________________________________\n",
      "conv2d_2 (Conv2D)            (None, 21, 21, 64)        36928     \n",
      "_________________________________________________________________\n",
      "dropout (Dropout)            (None, 21, 21, 64)        0         \n",
      "_________________________________________________________________\n",
      "flatten (Flatten)            (None, 28224)             0         \n",
      "_________________________________________________________________\n",
      "dense (Dense)                (None, 128)               3612800   \n",
      "_________________________________________________________________\n",
      "dropout_1 (Dropout)          (None, 128)               0         \n",
      "_________________________________________________________________\n",
      "preds (Dense)                (None, 1)                 129       \n",
      "=================================================================\n",
      "Total params: 3,669,249\n",
      "Trainable params: 3,669,249\n",
      "Non-trainable params: 0\n",
      "_________________________________________________________________\n"
     ]
    }
   ],
   "source": [
    "# set model constants\n",
    "num_classes = 1\n",
    "\n",
    "# define model as Sequential\n",
    "model = Sequential()\n",
    "\n",
    "# first convolutional layer with 32 filters\n",
    "model.add(Conv2D(32, kernel_size=(3, 3), activation='relu', input_shape=(50, 50, 3)))\n",
    "\n",
    "# add a second 2D convolutional layer with 64 filters\n",
    "model.add(Conv2D(64, kernel_size=(3, 3), activation='relu'))\n",
    "\n",
    "\n",
    "# reduce dimensionality through max pooling\n",
    "model.add(MaxPooling2D(pool_size=(2, 2)))\n",
    "\n",
    "# third convolutional layer with 64 filters\n",
    "model.add(Conv2D(64, kernel_size=(3, 3), activation='relu'))\n",
    "# add dropout to prevent over fitting\n",
    "model.add(Dropout(0.25))\n",
    "# necessary flatten step preceeding dense layer\n",
    "model.add(Flatten())\n",
    "# fully connected layer\n",
    "model.add(Dense(128, activation='relu'))\n",
    "\n",
    "# add additional dropout to prevent overfitting\n",
    "model.add(Dropout(0.5))\n",
    "\n",
    "# prediction layers\n",
    "model.add(Dense(num_classes, activation='sigmoid', name='preds'))\n",
    "\n",
    "# show model summary\n",
    "model.summary()"
   ]
  },
  {
   "cell_type": "markdown",
   "metadata": {
    "collapsed": true
   },
   "source": [
    "## 8. Compile and train model\n",
    "<p>Now that we've specified the model architecture, we will <a href=\"https://keras.io/models/model/#compile\">compile</a> the model for training. For this we need to specify the loss function (what we're trying to minimize), the optimizer (how we want to go about minimizing the loss), and the metric (how we'll judge the performance of the model).</p>\n",
    "<p>Then, we'll call <a href=\"https://keras.io/models/model/#fit\"><code>.fit</code></a> to begin the trainig the process. </p>\n",
    "<blockquote>\n",
    "  <p>\"Neural networks are trained iteratively using optimization techniques like gradient descent. After each cycle of training, an error metric is calculated based on the difference between prediction and target…Each neuron’s coefficients (weights) are then adjusted relative to how much they contributed to the total error. This process is repeated iteratively.\" <a href=\"https://ml-cheatsheet.readthedocs.io/en/latest/nn_concepts.html\">ML Cheatsheet</a></p>\n",
    "</blockquote>\n",
    "<p>Since training is computationally intensive, we'll do a 'mock' training to get the feel for it, using just the first 10 images in the train and test sets and training for just 5 epochs. Epochs refer to the number of iterations over the data. Typically, neural networks will train for hundreds if not thousands of epochs.</p>\n",
    "<p>Take a look at the printout for each epoch and note the loss on the train set (<code>loss</code>), the accuracy on the train set (<code>acc</code>), and loss on the test set (<code>val_loss</code>) and the accuracy on the test set (<code>val_acc</code>). We'll explore this more in a later step.</p>"
   ]
  },
  {
   "cell_type": "code",
   "execution_count": 8,
   "metadata": {},
   "outputs": [
    {
     "name": "stdout",
     "output_type": "stream",
     "text": [
      "Epoch 1/5\n",
      "1/1 [==============================] - 1s 988ms/step - loss: 0.7273 - accuracy: 0.3000 - val_loss: 0.7385 - val_accuracy: 0.4000\n",
      "Epoch 2/5\n",
      "1/1 [==============================] - 0s 60ms/step - loss: 0.7071 - accuracy: 0.5000 - val_loss: 0.7378 - val_accuracy: 0.4000\n",
      "Epoch 3/5\n",
      "1/1 [==============================] - 0s 60ms/step - loss: 0.7258 - accuracy: 0.4000 - val_loss: 0.7394 - val_accuracy: 0.5000\n",
      "Epoch 4/5\n",
      "1/1 [==============================] - 0s 58ms/step - loss: 0.6883 - accuracy: 0.7000 - val_loss: 0.7421 - val_accuracy: 0.3000\n",
      "Epoch 5/5\n",
      "1/1 [==============================] - 0s 60ms/step - loss: 0.7439 - accuracy: 0.6000 - val_loss: 0.7433 - val_accuracy: 0.4000\n"
     ]
    },
    {
     "data": {
      "text/plain": [
       "<tensorflow.python.keras.callbacks.History at 0x7f5cd487d470>"
      ]
     },
     "execution_count": 8,
     "metadata": {},
     "output_type": "execute_result"
    }
   ],
   "source": [
    "model.compile(\n",
    "    # set the loss as binary_crossentropy\n",
    "    loss=keras.losses.binary_crossentropy,\n",
    "    # set the optimizer as stochastic gradient descent\n",
    "    optimizer=keras.optimizers.SGD(lr=0.001),\n",
    "    # set the metric as accuracy\n",
    "    metrics=['accuracy']\n",
    ")\n",
    "\n",
    "# mock-train the model using the first ten observations of the train and test sets\n",
    "model.fit(\n",
    "    x_train[:10, :, :, :],\n",
    "    y_train[:10],\n",
    "    epochs=5,\n",
    "    verbose=1,\n",
    "    validation_data=(x_test[:10, :, :, :], y_test[:10])\n",
    ")"
   ]
  },
  {
   "cell_type": "markdown",
   "metadata": {},
   "source": [
    "## 9. Load pre-trained model and score\n",
    "To compile and train the model, we need to specify the loss function, optimizer, and evaluation metric. For this task, we'll use the following:\n",
    "•\tLoss function: binary cross-entropy, since we're doing binary classification\n",
    "•\tOptimizer: Adam, a popular optimizer for neural networks\n",
    "•\tEvaluation metric: accuracy, to judge the performance of the model\n",
    "We'll then call the fit method to start the training process. Since we're just doing a mock training with a small subset of the data, we'll use a batch size of 5 and train for only 5 epochs."
   ]
  },
  {
   "cell_type": "code",
   "execution_count": 9,
   "metadata": {},
   "outputs": [
    {
     "name": "stdout",
     "output_type": "stream",
     "text": [
      "WARNING:tensorflow:Error in loading the saved optimizer state. As a result, your model is starting with a freshly initialized optimizer.\n",
      "Test loss: 0.6719561815261841\n",
      "Test accuracy: 0.6188679337501526\n",
      "\n",
      "Eval loss: 0.6701621413230896\n",
      "Eval accuracy: 0.6374622583389282\n"
     ]
    }
   ],
   "source": [
    "# load pre-trained model\n",
    "pretrained_cnn = keras.models.load_model('datasets/pretrained_model.h5')\n",
    "\n",
    "# evaluate model on test set\n",
    "score = pretrained_cnn.evaluate(x_test, y_test, verbose=0)\n",
    "print('Test loss:', score[0])\n",
    "print('Test accuracy:', score[1])\n",
    "\n",
    "print(\"\")\n",
    "\n",
    "# evaluate model on holdout set\n",
    "eval_score = pretrained_cnn.evaluate(x_eval, y_eval, verbose=0)\n",
    "# print loss score\n",
    "print('Eval loss:', eval_score[0])\n",
    "# print accuracy score\n",
    "print('Eval accuracy:', eval_score[1])"
   ]
  },
  {
   "cell_type": "markdown",
   "metadata": {},
   "source": [
    "## 10. Visualize model training history\n",
    "\n",
    "We can visualize the history of the training process using the History object. The history object keeps track of the loss and accuracy for both the training and validation sets after each epoch.\n",
    "\n",
    "In this case, we loaded the history object using the pickle library and plotted the training and validation accuracy and loss over time. The plot shows how the accuracy improves over time, eventually leveling off. The loss also decreases over time. Such plots can help diagnose overfitting. If the validation loss starts to increase after some point, it might indicate that the model has started to memorize the training set and is not generalizing well to new data."
   ]
  },
  {
   "cell_type": "code",
   "execution_count": 10,
   "metadata": {},
   "outputs": [
    {
     "name": "stdout",
     "output_type": "stream",
     "text": [
      "dict_keys(['val_loss', 'val_acc', 'loss', 'acc'])\n"
     ]
    },
    {
     "data": {
      "image/png": "[encoded data removed]",
      "text/plain": [
       "<Figure size 432x288 with 2 Axes>"
      ]
     },
     "metadata": {
      "needs_background": "light"
     },
     "output_type": "display_data"
    }
   ],
   "source": [
    "# load history\n",
    "with open('datasets/model_history.pkl', 'rb') as f:\n",
    "    pretrained_cnn_history = pickle.load(f)\n",
    "\n",
    "# print keys for pretrained_cnn_history dict\n",
    "print(pretrained_cnn_history.keys())\n",
    "\n",
    "fig = plt.figure(1)\n",
    "plt.subplot(211)\n",
    "# plot the validation accuracy\n",
    "plt.plot(pretrained_cnn_history['val_acc'])\n",
    "plt.title('Validation accuracy and loss')\n",
    "plt.ylabel('Accuracy')\n",
    "plt.subplot(212)\n",
    "# plot the validation loss\n",
    "plt.plot(pretrained_cnn_history['val_loss'], 'r')\n",
    "plt.xlabel('Epoch')\n",
    "plt.ylabel('Loss value');"
   ]
  },
  {
   "cell_type": "markdown",
   "metadata": {},
   "source": [
    "## 11. Generate predictions\n",
    "\n",
    "Previously, we calculated an overall score for our pre-trained model on the validation set. To end this notebook, let's access probabilities and class predictions for individual images using the .predict() method and np.round().\n",
    "\n",
    "We now have a deep learning model that can be used to identify honey bees and bumble bees in images! The next step is to explore transfer learning, which harnesses the prediction power of models that have been trained on far more images than the mere 1600 in our dataset."
   ]
  },
  {
   "cell_type": "code",
   "execution_count": 11,
   "metadata": {},
   "outputs": [
    {
     "name": "stdout",
     "output_type": "stream",
     "text": [
      "First five probabilities:\n",
      "[[0.5104395 ]\n",
      " [0.5508864 ]\n",
      " [0.6333447 ]\n",
      " [0.18111488]\n",
      " [0.33957684]]\n",
      "\n",
      "First five class predictions:\n",
      "this is a bumble bee\n",
      "this is a bumble bee\n",
      "this is a bumble bee\n",
      "this is an honey bee\n",
      "this is an honey bee\n"
     ]
    }
   ],
   "source": [
    "# predicted probabilities for x_eval\n",
    "y_proba = pretrained_cnn.predict(x_eval)\n",
    "\n",
    "print(\"First five probabilities:\")\n",
    "print(y_proba[:5])\n",
    "print(\"\")\n",
    "\n",
    "# predicted classes for x_eval\n",
    "y_pred = np.round(y_proba).astype('int')\n",
    "\n",
    "print(\"First five class predictions:\")\n",
    "for i in range(5):\n",
    "    if(y_pred[i]>0.5):\n",
    "        print(\"this is a bumble bee\")\n",
    "    else:\n",
    "        print(\"this is an honey bee\")"
   ]
  }
 ],
 "metadata": {
  "kernelspec": {
   "display_name": "Python 3",
   "language": "python",
   "name": "python3"
  },
  "language_info": {
   "codemirror_mode": {
    "name": "ipython",
    "version": 3
   },
   "file_extension": ".py",
   "mimetype": "text/x-python",
   "name": "python",
   "nbconvert_exporter": "python",
   "pygments_lexer": "ipython3",
   "version": "3.6.7"
  }
 },
 "nbformat": 4,
 "nbformat_minor": 4
}
